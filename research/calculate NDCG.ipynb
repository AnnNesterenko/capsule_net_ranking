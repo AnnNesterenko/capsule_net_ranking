{
 "cells": [
  {
   "cell_type": "code",
   "execution_count": 8,
   "id": "2d784dd3",
   "metadata": {},
   "outputs": [],
   "source": [
    "import numpy as np"
   ]
  },
  {
   "cell_type": "code",
   "execution_count": 46,
   "id": "925ab4ed",
   "metadata": {},
   "outputs": [],
   "source": [
    "def compute_ndcg_k(results, lstOriginalRank, k):\n",
    "    m = 0.0\n",
    "    _start = 0\n",
    "    for tmp in lstOriginalRank:\n",
    "        _end = _start + len(tmp)\n",
    "        # те номера, которые поставили в топ к\n",
    "        lstsorted = np.argsort(results[_start:_end])[:k]\n",
    "        print(lstsorted)\n",
    "        print(tmp)\n",
    "        d = sum(np.array([tmp[lstsorted[i]] for i in range(k)]) / np.array([np.log2(i+1) for i in range(1, k + 1)])) \\\n",
    "                    / sum([1/np.log2(i+1) for i in range(1, k + 1)])\n",
    "        m += d\n",
    "        _start = _end \n",
    "    return m / len(lstOriginalRank)"
   ]
  },
  {
   "cell_type": "code",
   "execution_count": 47,
   "id": "0ee70a35",
   "metadata": {},
   "outputs": [
    {
     "name": "stdout",
     "output_type": "stream",
     "text": [
      "[0 1 2 6 3]\n",
      "[1 1 1 1 1 1 0 0 0 0]\n"
     ]
    },
    {
     "data": {
      "text/plain": [
       "0.8539316501572937"
      ]
     },
     "execution_count": 47,
     "metadata": {},
     "output_type": "execute_result"
    }
   ],
   "source": [
    "compute_ndcg_k(results, lstOriginalRank, 5)"
   ]
  },
  {
   "cell_type": "code",
   "execution_count": 28,
   "id": "7993bf44",
   "metadata": {},
   "outputs": [],
   "source": [
    "results = np.array([0.1, 0.1, 0.1, 0.55, 0.6, 0.99, 0.2, 0.9, 0.9, 0.9])\n",
    "lstOriginalRank = np.array([[1, 1, 1, 1, 1, 1, 0, 0, 0, 0]])"
   ]
  },
  {
   "cell_type": "code",
   "execution_count": 13,
   "id": "c8eb4bf4",
   "metadata": {},
   "outputs": [
    {
     "data": {
      "text/plain": [
       "array([0, 1, 1, 0, 1, 1, 0, 0, 0, 0])"
      ]
     },
     "execution_count": 13,
     "metadata": {},
     "output_type": "execute_result"
    }
   ],
   "source": [
    "results * lstOriginalRank / "
   ]
  },
  {
   "cell_type": "code",
   "execution_count": 49,
   "id": "36f2e15b",
   "metadata": {},
   "outputs": [
    {
     "data": {
      "text/plain": [
       "2.9484591188793923"
      ]
     },
     "execution_count": 49,
     "metadata": {},
     "output_type": "execute_result"
    }
   ],
   "source": [
    "sum([1/np.log2(i+1) for i in range(1, 5 + 1)])"
   ]
  }
 ],
 "metadata": {
  "kernelspec": {
   "display_name": "Python 3",
   "language": "python",
   "name": "python3"
  },
  "language_info": {
   "codemirror_mode": {
    "name": "ipython",
    "version": 3
   },
   "file_extension": ".py",
   "mimetype": "text/x-python",
   "name": "python",
   "nbconvert_exporter": "python",
   "pygments_lexer": "ipython3",
   "version": "3.8.5"
  }
 },
 "nbformat": 4,
 "nbformat_minor": 5
}
