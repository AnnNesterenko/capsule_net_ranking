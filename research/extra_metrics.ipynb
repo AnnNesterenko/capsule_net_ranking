{
 "cells": [
  {
   "cell_type": "code",
   "execution_count": 1,
   "id": "a8b1377e",
   "metadata": {},
   "outputs": [],
   "source": [
    "import numpy as np"
   ]
  },
  {
   "cell_type": "code",
   "execution_count": 4,
   "id": "11d8de87",
   "metadata": {},
   "outputs": [
    {
     "data": {
      "text/plain": [
       "array([0.74264087, 0.79205214, 0.82842725, 0.83641716, 0.83978133,\n",
       "       0.83704794, 0.84125315, 0.84461733, 0.84356602, 0.8500841 ,\n",
       "       0.85449958, 0.85681245, 0.85807401, 0.85912532, 0.86164844,\n",
       "       0.86312027, 0.8597561 , 0.86206897, 0.8618587 , 0.86522288,\n",
       "       0.86522288, 0.86438183, 0.85954584, 0.86101766, 0.86417157,\n",
       "       0.86248949, 0.86795627, 0.86858705, 0.87174096, 0.86837679,\n",
       "       0.87005887, 0.87321278, 0.87068966, 0.87405383, 0.87657696,\n",
       "       0.87363331, 0.872582  , 0.87111018, 0.87510513, 0.87510513,\n",
       "       0.87804878, 0.87510513, 0.88267452, 0.87720774, 0.877418  ,\n",
       "       0.88099243, 0.88015139, 0.88267452, 0.87867956, 0.88645921])"
      ]
     },
     "execution_count": 4,
     "metadata": {},
     "output_type": "execute_result"
    }
   ],
   "source": [
    "np.load(\"train_metric_values/arxiv_doc2vec/0.0001-50.npy\")"
   ]
  }
 ],
 "metadata": {
  "kernelspec": {
   "display_name": "Python 3",
   "language": "python",
   "name": "python3"
  },
  "language_info": {
   "codemirror_mode": {
    "name": "ipython",
    "version": 3
   },
   "file_extension": ".py",
   "mimetype": "text/x-python",
   "name": "python",
   "nbconvert_exporter": "python",
   "pygments_lexer": "ipython3",
   "version": "3.8.5"
  }
 },
 "nbformat": 4,
 "nbformat_minor": 5
}
