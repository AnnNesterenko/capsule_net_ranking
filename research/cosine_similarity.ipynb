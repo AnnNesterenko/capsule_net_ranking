{
 "cells": [
  {
   "cell_type": "code",
   "execution_count": 7,
   "metadata": {},
   "outputs": [],
   "source": [
    "import sklearn\n",
    "from sklearn import metrics\n",
    "import codecs\n",
    "import numpy as np\n",
    "import sys"
   ]
  },
  {
   "cell_type": "code",
   "execution_count": 2,
   "metadata": {},
   "outputs": [],
   "source": [
    "def cos_sim(first, second):\n",
    "    return metrics.pairwise.cosine_similarity(first.reshape(1, -1), second.reshape(1, -1))[0][0]"
   ]
  },
  {
   "cell_type": "code",
   "execution_count": 3,
   "metadata": {},
   "outputs": [],
   "source": [
    "path = '/Users/annanesterenko/Desktop/diplom'"
   ]
  },
  {
   "cell_type": "code",
   "execution_count": 8,
   "metadata": {},
   "outputs": [],
   "source": [
    "sys.path.append(path)"
   ]
  },
  {
   "cell_type": "markdown",
   "metadata": {},
   "source": [
    "### ARXIV"
   ]
  },
  {
   "cell_type": "code",
   "execution_count": 6,
   "metadata": {},
   "outputs": [],
   "source": [
    "def evaluate_quality(embeddings_file, triples_file=f\"{path}/data/ARXIV/arxiv_triplets.txt\", func=cos_sim):\n",
    "    all_triplets = 0\n",
    "    covered_triplets = 0\n",
    "    correct_triplets = 0\n",
    "    \n",
    "    embeddings = []\n",
    "    id2tag = {}\n",
    "    with codecs.open(embeddings_file) as f:\n",
    "        for line in f:\n",
    "            id_, embedding = line.split(' ', maxsplit=1)\n",
    "            id2tag[id_[2:]] = len(embeddings)\n",
    "            embeddings.append(embedding)\n",
    "\n",
    "    with codecs.open(triples_file) as fin:\n",
    "        for line in fin:\n",
    "            id1, id2, id3 = map(lambda x: x.split('/pdf/')[-1], line.split())\n",
    "            if id1 in id2tag and id2 in id2tag and id3 in id2tag:\n",
    "                covered_triplets += 1\n",
    "                t1, t2, t3 = id2tag[id1], id2tag[id2], id2tag[id3]\n",
    "                query = np.array(list(map(float, embeddings[t1].split())))\n",
    "                good_req = np.array(list(map(float, embeddings[t2].split())))\n",
    "                bad_req = np.array(list(map(float, embeddings[t3].split())))\n",
    "                correct_triplets += func(query, good_req) > cos_sim(query, bad_req)\n",
    "            all_triplets += 1\n",
    "    return 1.0 * correct_triplets / covered_triplets"
   ]
  },
  {
   "cell_type": "code",
   "execution_count": 5,
   "metadata": {},
   "outputs": [
    {
     "data": {
      "text/plain": [
       "0.7862865072856873"
      ]
     },
     "execution_count": 5,
     "metadata": {},
     "output_type": "execute_result"
    }
   ],
   "source": [
    "evaluate_quality(f\"{path}/data/ARXIV/embeddings_doc2vec.txt\")"
   ]
  },
  {
   "cell_type": "code",
   "execution_count": 67,
   "metadata": {},
   "outputs": [
    {
     "data": {
      "text/plain": [
       "0.8546900643858099"
      ]
     },
     "execution_count": 67,
     "metadata": {},
     "output_type": "execute_result"
    }
   ],
   "source": [
    "evaluate_quality(\"data/embeddings_fasttext.txt\")"
   ]
  },
  {
   "cell_type": "markdown",
   "metadata": {},
   "source": [
    "### MIND"
   ]
  },
  {
   "cell_type": "code",
   "execution_count": 9,
   "metadata": {},
   "outputs": [],
   "source": [
    "from CapsE.prepare_ import *"
   ]
  },
  {
   "cell_type": "code",
   "execution_count": 82,
   "metadata": {},
   "outputs": [],
   "source": [
    "def evaluate_quality(lst_embeddings_query, \n",
    "                     lst_embeddings_doc, \n",
    "                     test_duplets,\n",
    "                     test_val_duplets,\n",
    "                     func=cos_sim):\n",
    "    \n",
    "    all_triplets = len(test_duplets)\n",
    "    recall = 0\n",
    "    precision = 0\n",
    "    \n",
    "    for i in range(len(test_duplets)):\n",
    "        ranked = []\n",
    "        query = lst_embeddings_query[test_duplets[i][0][0]] \n",
    "\n",
    "        relevant_cnt = 0\n",
    "        for j in range(10):\n",
    "            ans = lst_embeddings_doc[test_duplets[i][j][1]]\n",
    "            cos_sim = func(query, ans)\n",
    "            \n",
    "            ranked.append([cos_sim, test_val_duplets[i][j][0]])\n",
    "            relevant_cnt += test_val_duplets[i][j][0]\n",
    "            \n",
    "        ranked.sort(key=lambda x: x[0], reverse=True)\n",
    "        ranked_relevance = [i[1] for i in ranked]\n",
    "        \n",
    "        precision += sum(ranked_relevance[:relevant_cnt]) / relevant_cnt\n",
    "        recall += (sum(ranked_relevance[:relevant_cnt]) == relevant_cnt)\n",
    "        \n",
    "    return recall / all_triplets, precision / all_triplets"
   ]
  },
  {
   "cell_type": "code",
   "execution_count": 83,
   "metadata": {},
   "outputs": [],
   "source": [
    "lst_embeddings_query, lst_embeddings_doc, \\\n",
    "           train_duplets, test_duplets, \\\n",
    "           train_val_duplets, test_val_duplets = get_data_for_net_MIND(\n",
    "                                        embeddings_file_train=f'{path}/data/MIND/embeddings_doc2vec_train.txt', \n",
    "                                        embeddings_file_test=f'{path}/data/MIND/embeddings_doc2vec_test.txt',\n",
    "                                        behaviors_train=f'{path}/data/MIND/behaviors_train.tsv',\n",
    "                                        behaviors_test=f'{path}/data/MIND/behaviors_test.tsv')"
   ]
  },
  {
   "cell_type": "code",
   "execution_count": 84,
   "metadata": {},
   "outputs": [
    {
     "data": {
      "text/plain": [
       "(0.017666666666666667, 0.4494007936507956)"
      ]
     },
     "execution_count": 84,
     "metadata": {},
     "output_type": "execute_result"
    }
   ],
   "source": [
    "evaluate_quality(lst_embeddings_query, \n",
    "                     lst_embeddings_doc, \n",
    "                     test_duplets,\n",
    "                     test_val_duplets)"
   ]
  },
  {
   "cell_type": "code",
   "execution_count": 85,
   "metadata": {},
   "outputs": [],
   "source": [
    "lst_embeddings_query, lst_embeddings_doc, \\\n",
    "           train_duplets, test_duplets, \\\n",
    "           train_val_duplets, test_val_duplets = get_data_for_net_MIND(\n",
    "                                        embeddings_file_train=f'{path}/data/MIND/embeddings_fasttext_train.txt', \n",
    "                                        embeddings_file_test=f'{path}/data/MIND/embeddings_fasttext_test.txt',\n",
    "                                        behaviors_train=f'{path}/data/MIND/behaviors_train.tsv',\n",
    "                                        behaviors_test=f'{path}/data/MIND/behaviors_test.tsv')"
   ]
  },
  {
   "cell_type": "code",
   "execution_count": 86,
   "metadata": {},
   "outputs": [
    {
     "data": {
      "text/plain": [
       "(0.02033333333333333, 0.44723214285714397)"
      ]
     },
     "execution_count": 86,
     "metadata": {},
     "output_type": "execute_result"
    }
   ],
   "source": [
    "evaluate_quality(lst_embeddings_query, \n",
    "                     lst_embeddings_doc, \n",
    "                     test_duplets,\n",
    "                     test_val_duplets)"
   ]
  },
  {
   "cell_type": "code",
   "execution_count": 88,
   "metadata": {},
   "outputs": [],
   "source": [
    "lst_embeddings_query, lst_embeddings_doc, \\\n",
    "           train_duplets, test_duplets, \\\n",
    "           train_val_duplets, test_val_duplets = get_data_for_net_MIND(\n",
    "                                        embeddings_file_train=f'{path}/data/MIND/embeddings_BERT_train.txt', \n",
    "                                        embeddings_file_test=f'{path}/data/MIND/embeddings_BERT_test.txt',\n",
    "                                        behaviors_train=f'{path}/data/MIND/behaviors_train.tsv',\n",
    "                                        behaviors_test=f'{path}/data/MIND/behaviors_test.tsv', \n",
    "                                        SIZE=768)"
   ]
  },
  {
   "cell_type": "code",
   "execution_count": 89,
   "metadata": {},
   "outputs": [
    {
     "data": {
      "text/plain": [
       "(0.021166666666666667, 0.4227432539682545)"
      ]
     },
     "execution_count": 89,
     "metadata": {},
     "output_type": "execute_result"
    }
   ],
   "source": [
    "evaluate_quality(lst_embeddings_query, \n",
    "                     lst_embeddings_doc, \n",
    "                     test_duplets,\n",
    "                     test_val_duplets)"
   ]
  }
 ],
 "metadata": {
  "kernelspec": {
   "display_name": "Python 3",
   "language": "python",
   "name": "python3"
  },
  "language_info": {
   "codemirror_mode": {
    "name": "ipython",
    "version": 3
   },
   "file_extension": ".py",
   "mimetype": "text/x-python",
   "name": "python",
   "nbconvert_exporter": "python",
   "pygments_lexer": "ipython3",
   "version": "3.8.5"
  }
 },
 "nbformat": 4,
 "nbformat_minor": 4
}
