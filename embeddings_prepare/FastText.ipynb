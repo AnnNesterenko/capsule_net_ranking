{
 "cells": [
  {
   "cell_type": "code",
   "execution_count": 1,
   "metadata": {},
   "outputs": [],
   "source": [
    "import fasttext\n",
    "import gensim\n",
    "import codecs\n",
    "import numpy as np"
   ]
  },
  {
   "cell_type": "code",
   "execution_count": 1,
   "metadata": {},
   "outputs": [],
   "source": [
    "# путь к корневой папке проекта\n",
    "path = '/Users/annanesterenko/Desktop/diplom'"
   ]
  },
  {
   "cell_type": "code",
   "execution_count": 4,
   "metadata": {},
   "outputs": [],
   "source": [
    "model = fasttext.train_unsupervised(f'{path}/data/ARXIV/arxiv_plain.txt', epoch=1, dim=200)"
   ]
  },
  {
   "cell_type": "code",
   "execution_count": 6,
   "metadata": {},
   "outputs": [],
   "source": [
    "with codecs.open(f'{path}/data/MIND/embeddings_fasttext_train.txt', 'w') as emb:\n",
    "    with codecs.open(f'{path}/data/MIND/texts_train.txt') as f:\n",
    "        for line in f:\n",
    "            tokens = gensim.utils.to_unicode(line).split()\n",
    "            id_ = tokens[0]\n",
    "            words = tokens[1:]\n",
    "            embedding = np.zeros(200)\n",
    "            for word in words:\n",
    "                embedding += model.get_word_vector(word)\n",
    "            if len(words) > 0:\n",
    "                embedding /= len(words)\n",
    "                emb.write(id_ + ' ' + ' '.join(map(str, embedding)) + '\\n')"
   ]
  },
  {
   "cell_type": "code",
   "execution_count": 7,
   "metadata": {},
   "outputs": [],
   "source": [
    "with codecs.open(f'{path}/data/MIND/embeddings_fasttext_test.txt', 'w') as emb:\n",
    "    with codecs.open(f'{path}/data/MIND/texts_test.txt') as f:\n",
    "        for line in f:\n",
    "            tokens = gensim.utils.to_unicode(line).split()\n",
    "            id_ = tokens[0]\n",
    "            words = tokens[1:]\n",
    "            embedding = np.zeros(200)\n",
    "            for word in words:\n",
    "                embedding += model.get_word_vector(word)\n",
    "            if len(words) > 0:\n",
    "                embedding /= len(words)\n",
    "                emb.write(id_ + ' ' + ' '.join(map(str, embedding)) + '\\n')"
   ]
  }
 ],
 "metadata": {
  "kernelspec": {
   "display_name": "Python 3",
   "language": "python",
   "name": "python3"
  },
  "language_info": {
   "codemirror_mode": {
    "name": "ipython",
    "version": 3
   },
   "file_extension": ".py",
   "mimetype": "text/x-python",
   "name": "python",
   "nbconvert_exporter": "python",
   "pygments_lexer": "ipython3",
   "version": "3.8.5"
  }
 },
 "nbformat": 4,
 "nbformat_minor": 4
}
